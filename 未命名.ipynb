{
 "cells": [
  {
   "cell_type": "code",
   "execution_count": null,
   "metadata": {},
   "outputs": [],
   "source": []
  },
  {
   "cell_type": "raw",
   "metadata": {},
   "source": []
  },
  {
   "cell_type": "code",
   "execution_count": 23,
   "metadata": {},
   "outputs": [
    {
     "name": "stdout",
     "output_type": "stream",
     "text": [
      "785\n",
      "1\n"
     ]
    }
   ],
   "source": [
    "import numpy\n",
    "import matplotlib.pyplot\n",
    "#%matplotlib inline\n",
    "datadir=\"D:\\\\project\\\\golang\\\\src\\\\deepLearnning\\\\dataset\\\\\"\n",
    "traindata=\"mnist_train_100.csv\"\n",
    "testdata=\"mnist_test_10.csv\"\n",
    "openfile=open(datadir+testdata,'r')\n",
    "data_list=openfile.readlines()\n",
    "openfile.close()\n",
    "#print(len(data_list))\n",
    "#print(data_list[0])\n",
    "all_values=data_list[0].split(\",\")\n",
    "#print(all_values)\n",
    "scaled_input=(numpy.asfarray(all_values[1:])/255.0*0.99)+0.01\n",
    "#print(scaled_input)\n",
    "image_list=numpy.asfarray(all_values[1:]).reshape((28,28))\n",
    "targets = numpy.array(all_values, ndmin=2).T\n",
    "print(len(targets))\n",
    "test=numpy.transpose(targets)\n",
    "\n",
    "print(len(test))\n",
    "\n",
    "#print(len(targets))\n",
    "#print(pow(10,2))\n",
    "tmp= numpy.random.normal(0.0, pow(784, -0.5), (2, 3))\n",
    "#print(pow(784, -0.5))\n",
    "\n",
    "#matplotlib.pyplot.imshow(image_list,cmap='Greys',interpolation='None')"
   ]
  },
  {
   "cell_type": "code",
   "execution_count": null,
   "metadata": {},
   "outputs": [],
   "source": []
  }
 ],
 "metadata": {
  "kernelspec": {
   "display_name": "Python 3",
   "language": "python",
   "name": "python3"
  },
  "language_info": {
   "codemirror_mode": {
    "name": "ipython",
    "version": 3
   },
   "file_extension": ".py",
   "mimetype": "text/x-python",
   "name": "python",
   "nbconvert_exporter": "python",
   "pygments_lexer": "ipython3",
   "version": "3.7.4"
  }
 },
 "nbformat": 4,
 "nbformat_minor": 2
}
